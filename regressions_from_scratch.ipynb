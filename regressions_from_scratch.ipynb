{
 "cells": [
  {
   "cell_type": "code",
   "execution_count": 1,
   "id": "0db1a9b4",
   "metadata": {},
   "outputs": [],
   "source": [
    "from sklearn import datasets\n",
    "import numpy as np\n",
    "import pandas as pd\n",
    "import matplotlib.pyplot as plt\n",
    "from sklearn.metrics import mean_squared_error\n",
    "from sklearn.linear_model import LinearRegression\n",
    "from sklearn.model_selection import train_test_split\n",
    "from sklearn.metrics import confusion_matrix, accuracy_score\n",
    "from sklearn.linear_model import LogisticRegression\n",
    "iris = datasets.load_iris()\n",
    "X = iris[\"data\"]"
   ]
  },
  {
   "cell_type": "markdown",
   "id": "1a94dbf3",
   "metadata": {},
   "source": [
    "LINEAR REGRESSION"
   ]
  },
  {
   "cell_type": "code",
   "execution_count": 2,
   "id": "5673f3f6",
   "metadata": {},
   "outputs": [
    {
     "name": "stdout",
     "output_type": "stream",
     "text": [
      "          2         3\n",
      "2  1.000000  0.962865\n",
      "3  0.962865  1.000000\n"
     ]
    }
   ],
   "source": [
    "#These 2 columns are fairly well correlated\n",
    "df=pd.DataFrame(X)\n",
    "df=df[[2,3]]\n",
    "print(df.corr())"
   ]
  },
  {
   "cell_type": "code",
   "execution_count": 3,
   "id": "7eba6a97",
   "metadata": {},
   "outputs": [
    {
     "data": {
      "text/plain": [
       "(array([[0.41575542]]), array([-0.36307552]))"
      ]
     },
     "execution_count": 3,
     "metadata": {},
     "output_type": "execute_result"
    }
   ],
   "source": [
    "#For comparison\n",
    "x=np.array(df[2]).reshape(-1,1)\n",
    "y_lin=np.array(df[3]).reshape(-1,1)\n",
    "classifier = LinearRegression()\n",
    "classifier.fit(x, y_lin)\n",
    "classifier.coef_, classifier.intercept_"
   ]
  },
  {
   "cell_type": "code",
   "execution_count": 4,
   "id": "69e4767e",
   "metadata": {},
   "outputs": [],
   "source": [
    "m=1\n",
    "b=1\n",
    "lr=.01\n",
    "errors = []\n",
    "def get_grad(x, y, m, b):\n",
    "    y_hat = (m*x)+b\n",
    "    error = (y-y_hat)\n",
    "    errors.append(error)\n",
    "    dm = error*x*lr\n",
    "    db = error*lr\n",
    "    m = m+dm\n",
    "    b = b+db\n",
    "    return m, b"
   ]
  },
  {
   "cell_type": "code",
   "execution_count": 5,
   "id": "db410f98",
   "metadata": {},
   "outputs": [],
   "source": [
    "epochs = 500\n",
    "for e in range(epochs):\n",
    "    for i in range(len(df)):\n",
    "        m, b = get_grad(df[2][i], df[3][i], m, b)"
   ]
  },
  {
   "cell_type": "code",
   "execution_count": 6,
   "id": "e70f0679",
   "metadata": {},
   "outputs": [
    {
     "name": "stdout",
     "output_type": "stream",
     "text": [
      "0.46927644771215543 -0.3970419741231056\n"
     ]
    },
    {
     "data": {
      "image/png": "[encoded data removed]",
      "text/plain": [
       "<Figure size 640x480 with 1 Axes>"
      ]
     },
     "metadata": {},
     "output_type": "display_data"
    }
   ],
   "source": [
    "x1, y1 = [1, 7], [((m*1)+b), (m*7+b)]\n",
    "plt.plot(x1, y1, marker = 'o', color ='r')\n",
    "plt.scatter(df[2], df[3]);\n",
    "print(m,b)"
   ]
  },
  {
   "cell_type": "code",
   "execution_count": 7,
   "id": "80d61ede",
   "metadata": {},
   "outputs": [],
   "source": [
    "#Setting data up for logistic regression\n",
    "y = (iris[\"target\"] == 0).astype(int) \n",
    "X_logistic=X[:,:1]\n",
    "X_train, X_test, y_train, y_test = train_test_split(X_logistic, y, test_size = 0.2, random_state = 0)"
   ]
  },
  {
   "cell_type": "code",
   "execution_count": 8,
   "id": "e44b8492",
   "metadata": {},
   "outputs": [
    {
     "data": {
      "text/plain": [
       "array([[18,  1],\n",
       "       [ 2,  9]])"
      ]
     },
     "execution_count": 8,
     "metadata": {},
     "output_type": "execute_result"
    }
   ],
   "source": [
    "#For comparison\n",
    "classifier = LogisticRegression(random_state = 0, penalty = None)\n",
    "classifier.fit(X_train, y_train)\n",
    "classifier.coef_, classifier.intercept_\n",
    "y_pred = classifier.predict(X_test)\n",
    "confusion_matrix(y_test, y_pred)"
   ]
  },
  {
   "cell_type": "code",
   "execution_count": 9,
   "id": "f2cb2242",
   "metadata": {},
   "outputs": [],
   "source": [
    "m=1\n",
    "b=1\n",
    "lr=.1\n",
    "errors = []\n",
    "def get_grad_log(x, y, m, b):\n",
    "    z = (m*x)+b\n",
    "    y_hat = 1/ (1 + np.exp(-z))#forward pass\n",
    "    error = y_hat-y #get error\n",
    "    dm = x*error\n",
    "    db = error\n",
    "    m -= dm*lr\n",
    "    b -= db*lr\n",
    "    return m, b"
   ]
  },
  {
   "cell_type": "code",
   "execution_count": 10,
   "id": "a632dadd",
   "metadata": {},
   "outputs": [],
   "source": [
    "epochs=1500\n",
    "for e in range(epochs):\n",
    "    for i in range(len(X_train[:])):\n",
    "        m,b = get_grad_log(X_train[i], y_train[i], m, b)"
   ]
  },
  {
   "cell_type": "code",
   "execution_count": 11,
   "id": "ea485eab",
   "metadata": {},
   "outputs": [],
   "source": [
    "preds = []\n",
    "for test_x in X_test:\n",
    "    z = (m*test_x)+b\n",
    "    preds.append(1/ (1 + np.exp(-z)))"
   ]
  },
  {
   "cell_type": "code",
   "execution_count": 12,
   "id": "7fb415cb",
   "metadata": {},
   "outputs": [
    {
     "data": {
      "text/plain": [
       "array([[18,  1],\n",
       "       [ 1, 10]])"
      ]
     },
     "execution_count": 12,
     "metadata": {},
     "output_type": "execute_result"
    }
   ],
   "source": [
    "preds=[1 if p > .5 else 0 for p in preds]\n",
    "confusion_matrix(np.asarray(y_test), np.asarray(preds))"
   ]
  },
  {
   "cell_type": "code",
   "execution_count": 13,
   "id": "914a9028",
   "metadata": {},
   "outputs": [
    {
     "data": {
      "image/png": "[encoded data removed]",
      "text/plain": [
       "<Figure size 640x480 with 1 Axes>"
      ]
     },
     "metadata": {},
     "output_type": "display_data"
    }
   ],
   "source": [
    "plt.scatter(X_test, preds, color=['r' if c == 1 else 'b' for c in y_test])\n",
    "plt.show()"
   ]
  },
  {
   "cell_type": "code",
   "execution_count": null,
   "id": "f5efd666",
   "metadata": {},
   "outputs": [],
   "source": []
  }
 ],
 "metadata": {
  "kernelspec": {
   "display_name": "Python [conda env:py_3.9] *",
   "language": "python",
   "name": "conda-env-py_3.9-py"
  },
  "language_info": {
   "codemirror_mode": {
    "name": "ipython",
    "version": 3
   },
   "file_extension": ".py",
   "mimetype": "text/x-python",
   "name": "python",
   "nbconvert_exporter": "python",
   "pygments_lexer": "ipython3",
   "version": "3.9.19"
  }
 },
 "nbformat": 4,
 "nbformat_minor": 5
}
